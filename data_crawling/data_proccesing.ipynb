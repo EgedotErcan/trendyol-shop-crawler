{
 "cells": [
  {
   "cell_type": "code",
   "execution_count": 391,
   "metadata": {},
   "outputs": [],
   "source": [
    "import pandas as pd \n",
    "import numpy as np\n",
    "import json "
   ]
  },
  {
   "cell_type": "code",
   "execution_count": 392,
   "metadata": {},
   "outputs": [
    {
     "data": {
      "text/html": [
       "<div>\n",
       "<style scoped>\n",
       "    .dataframe tbody tr th:only-of-type {\n",
       "        vertical-align: middle;\n",
       "    }\n",
       "\n",
       "    .dataframe tbody tr th {\n",
       "        vertical-align: top;\n",
       "    }\n",
       "\n",
       "    .dataframe thead th {\n",
       "        text-align: right;\n",
       "    }\n",
       "</style>\n",
       "<table border=\"1\" class=\"dataframe\">\n",
       "  <thead>\n",
       "    <tr style=\"text-align: right;\">\n",
       "      <th></th>\n",
       "      <th>name</th>\n",
       "      <th>job</th>\n",
       "      <th>age</th>\n",
       "    </tr>\n",
       "  </thead>\n",
       "  <tbody>\n",
       "    <tr>\n",
       "      <th>0</th>\n",
       "      <td>ege</td>\n",
       "      <td>data-scientist</td>\n",
       "      <td>18</td>\n",
       "    </tr>\n",
       "    <tr>\n",
       "      <th>1</th>\n",
       "      <td>ertugrul</td>\n",
       "      <td>product manager</td>\n",
       "      <td>18</td>\n",
       "    </tr>\n",
       "    <tr>\n",
       "      <th>3</th>\n",
       "      <td>alex</td>\n",
       "      <td>software developer</td>\n",
       "      <td>28</td>\n",
       "    </tr>\n",
       "    <tr>\n",
       "      <th>4</th>\n",
       "      <td>lena</td>\n",
       "      <td>Big Data Architect</td>\n",
       "      <td>32</td>\n",
       "    </tr>\n",
       "    <tr>\n",
       "      <th>5</th>\n",
       "      <td>tunjar</td>\n",
       "      <td>CEO</td>\n",
       "      <td>34</td>\n",
       "    </tr>\n",
       "  </tbody>\n",
       "</table>\n",
       "</div>"
      ],
      "text/plain": [
       "       name                 job  age\n",
       "0       ege      data-scientist   18\n",
       "1  ertugrul     product manager   18\n",
       "3      alex  software developer   28\n",
       "4      lena  Big Data Architect   32\n",
       "5    tunjar                 CEO   34"
      ]
     },
     "execution_count": 392,
     "metadata": {},
     "output_type": "execute_result"
    }
   ],
   "source": [
    "data = {\"name\":[\"ege\",\"ertugrul\",\"batu\",\"alex\",\"lena\",\"tunjar\"],\n",
    "\"job\":[\"data-scientist\",\"product manager\",\"Data Analyst\",\"software developer\",\"Big Data Architect\",\"CEO\"],\n",
    "\"age\":[18,18,17,28,32,34]}\n",
    "df = pd.DataFrame(data)\n",
    "#! df.index = np.arange(1, len(df)+1)\n",
    "raw_data = df[df[\"age\"] > 17]\n",
    "raw_data"
   ]
  },
  {
   "cell_type": "code",
   "execution_count": 393,
   "metadata": {},
   "outputs": [],
   "source": [
    "raw_data.loc[raw_data[raw_data[\"name\"] == \"ertugrul\"].index,\"age\"] = 19\n",
    "raw_data.to_csv('../research.csv', index=False)"
   ]
  },
  {
   "cell_type": "code",
   "execution_count": 435,
   "metadata": {},
   "outputs": [
    {
     "data": {
      "text/plain": [
       "[{'name': 'ege', 'job': 'data-scientist', 'age': 18},\n",
       " {'name': 'ertugrul', 'job': 'product manager', 'age': 19},\n",
       " {'name': 'alex', 'job': 'software developer', 'age': 28},\n",
       " {'name': 'lena', 'job': 'Big Data Architect', 'age': 32},\n",
       " {'name': 'tunjar', 'job': 'CEO', 'age': 34}]"
      ]
     },
     "execution_count": 435,
     "metadata": {},
     "output_type": "execute_result"
    }
   ],
   "source": [
    "df_csv = pd.read_csv(\"../research.csv\",sep=',')\n",
    "df_csv.to_json(\"temp.json\",orient=\"records\",lines=False,indent=4)\n",
    "with open('temp.json',\"r\") as file:\n",
    "    json_format= file.read()\n",
    "    python_list = json.loads(json_format)\n",
    "python_list\n"
   ]
  },
  {
   "cell_type": "code",
   "execution_count": null,
   "metadata": {},
   "outputs": [],
   "source": []
  },
  {
   "cell_type": "code",
   "execution_count": null,
   "metadata": {},
   "outputs": [],
   "source": []
  },
  {
   "cell_type": "code",
   "execution_count": null,
   "metadata": {},
   "outputs": [],
   "source": []
  },
  {
   "cell_type": "code",
   "execution_count": null,
   "metadata": {},
   "outputs": [],
   "source": []
  },
  {
   "cell_type": "code",
   "execution_count": null,
   "metadata": {},
   "outputs": [],
   "source": []
  },
  {
   "cell_type": "code",
   "execution_count": null,
   "metadata": {},
   "outputs": [],
   "source": []
  }
 ],
 "metadata": {
  "interpreter": {
   "hash": "7d58d1262dce4f05d71daad0b87abb2d712aa69e25ef76903684484812cd74bd"
  },
  "kernelspec": {
   "display_name": "Python 3.10.2 64-bit",
   "language": "python",
   "name": "python3"
  },
  "language_info": {
   "codemirror_mode": {
    "name": "ipython",
    "version": 3
   },
   "file_extension": ".py",
   "mimetype": "text/x-python",
   "name": "python",
   "nbconvert_exporter": "python",
   "pygments_lexer": "ipython3",
   "version": "3.10.2"
  },
  "orig_nbformat": 4
 },
 "nbformat": 4,
 "nbformat_minor": 2
}
